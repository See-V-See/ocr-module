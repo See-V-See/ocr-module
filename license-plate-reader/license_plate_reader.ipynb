{
 "cells": [
  {
   "cell_type": "markdown",
   "id": "a514eab6",
   "metadata": {},
   "source": [
    "# Automatic License Plate Recognition\n",
    "- Basic image processing techniques (In controlled lighting conditions with predictable license plates).\n",
    "- Dedicated object detectors (HOG + Linear SVM, Faster R-CNN, SSDs, and YOLO).\n",
    "- State-of-the-art ANPR software utilizes Recurrent Neural Networks (RNNs) and Long Short-Term Memory networks (LSTMs)."
   ]
  },
  {
   "cell_type": "markdown",
   "id": "054083e9",
   "metadata": {},
   "source": [
    "## Strategy\n",
    "- Detect and localize a license plate in an input image.\n",
    "- Extract the characters from the license plate.\n",
    "- Apply OCR techniques to obtain the text."
   ]
  },
  {
   "cell_type": "markdown",
   "id": "eedc2a2a",
   "metadata": {},
   "source": [
    "## Non-deterministic factors\n",
    "- Dynamic light conditions, reflections, shadows and blurring.\n",
    "- Fast moving vehicles.\n",
    "- Obstructions.\n",
    "- Different types of plates."
   ]
  },
  {
   "cell_type": "markdown",
   "id": "a61923e5",
   "metadata": {},
   "source": [
    "## OpenCV\n",
    "\n",
    "## Optical Character Recognition (OCR)\n",
    "\n",
    "### Page Segmentation Method (PSM)\n",
    "- Setting that indicates layout analysis mode for the document/image.\n",
    "- There are 13 modes of operation.\n",
    "- The 7th treats the image as a single text line.\n",
    "\n",
    "### Whitelist\n",
    "- A listing of characters (i.e. letters, digits, symbols) that Tesseract will consider."
   ]
  }
 ],
 "metadata": {
  "kernelspec": {
   "display_name": "Python 3 (ipykernel)",
   "language": "python",
   "name": "python3"
  },
  "language_info": {
   "codemirror_mode": {
    "name": "ipython",
    "version": 3
   },
   "file_extension": ".py",
   "mimetype": "text/x-python",
   "name": "python",
   "nbconvert_exporter": "python",
   "pygments_lexer": "ipython3",
   "version": "3.8.9"
  }
 },
 "nbformat": 4,
 "nbformat_minor": 5
}
